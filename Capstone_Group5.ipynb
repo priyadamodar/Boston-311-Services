{
 "cells": [
  {
   "cell_type": "code",
   "execution_count": null,
   "metadata": {},
   "outputs": [],
   "source": [
    "!pip install plotly"
   ]
  },
  {
   "cell_type": "code",
   "execution_count": null,
   "metadata": {},
   "outputs": [],
   "source": [
    "import os\n",
    "os.chdir('/Users/priya/Desktop/AST')\n",
    "file = __import__(\"ALY6140_Capstone_Project_Group_6\")\n",
    "file.main()"
   ]
  },
  {
   "cell_type": "code",
   "execution_count": 2,
   "metadata": {},
   "outputs": [],
   "source": [
    "import pandas as pd\n",
    "import numpy as np\n",
    "import seaborn as sns\n",
    "import matplotlib.pyplot as plt\n",
    "%matplotlib inline\n"
   ]
  },
  {
   "cell_type": "code",
   "execution_count": 3,
   "metadata": {},
   "outputs": [
    {
     "data": {
      "text/html": [
       "<div>\n",
       "<style scoped>\n",
       "    .dataframe tbody tr th:only-of-type {\n",
       "        vertical-align: middle;\n",
       "    }\n",
       "\n",
       "    .dataframe tbody tr th {\n",
       "        vertical-align: top;\n",
       "    }\n",
       "\n",
       "    .dataframe thead th {\n",
       "        text-align: right;\n",
       "    }\n",
       "</style>\n",
       "<table border=\"1\" class=\"dataframe\">\n",
       "  <thead>\n",
       "    <tr style=\"text-align: right;\">\n",
       "      <th></th>\n",
       "      <th>case_enquiry_id</th>\n",
       "      <th>open_dt</th>\n",
       "      <th>target_dt</th>\n",
       "      <th>closed_dt</th>\n",
       "      <th>ontime</th>\n",
       "      <th>case_status</th>\n",
       "      <th>closure_reason</th>\n",
       "      <th>case_title</th>\n",
       "      <th>subject</th>\n",
       "      <th>reason</th>\n",
       "      <th>...</th>\n",
       "      <th>police_district</th>\n",
       "      <th>neighborhood</th>\n",
       "      <th>neighborhood_services_district</th>\n",
       "      <th>ward</th>\n",
       "      <th>precinct</th>\n",
       "      <th>location_street_name</th>\n",
       "      <th>location_zipcode</th>\n",
       "      <th>latitude</th>\n",
       "      <th>longitude</th>\n",
       "      <th>source</th>\n",
       "    </tr>\n",
       "  </thead>\n",
       "  <tbody>\n",
       "    <tr>\n",
       "      <th>0</th>\n",
       "      <td>101003189741</td>\n",
       "      <td>2020-02-07 15:17:00</td>\n",
       "      <td>2020-06-06 15:17:27</td>\n",
       "      <td>NaN</td>\n",
       "      <td>OVERDUE</td>\n",
       "      <td>Open</td>\n",
       "      <td></td>\n",
       "      <td>Overcrowding</td>\n",
       "      <td>Inspectional Services</td>\n",
       "      <td>Housing</td>\n",
       "      <td>...</td>\n",
       "      <td>D4</td>\n",
       "      <td>Back Bay</td>\n",
       "      <td>14</td>\n",
       "      <td>Ward 5</td>\n",
       "      <td>0507</td>\n",
       "      <td>116 Marlborough St</td>\n",
       "      <td>2116.0</td>\n",
       "      <td>42.3531</td>\n",
       "      <td>-71.0771</td>\n",
       "      <td>Constituent Call</td>\n",
       "    </tr>\n",
       "    <tr>\n",
       "      <th>1</th>\n",
       "      <td>101003156344</td>\n",
       "      <td>2020-01-10 13:49:00</td>\n",
       "      <td>2021-12-30 13:49:25</td>\n",
       "      <td>NaN</td>\n",
       "      <td>ONTIME</td>\n",
       "      <td>Open</td>\n",
       "      <td></td>\n",
       "      <td>Contractors Complaint</td>\n",
       "      <td>Inspectional Services</td>\n",
       "      <td>Building</td>\n",
       "      <td>...</td>\n",
       "      <td>C6</td>\n",
       "      <td>South Boston</td>\n",
       "      <td>5</td>\n",
       "      <td>06</td>\n",
       "      <td>0609</td>\n",
       "      <td>874 E Sixth St</td>\n",
       "      <td>2127.0</td>\n",
       "      <td>42.3335</td>\n",
       "      <td>-71.0260</td>\n",
       "      <td>Constituent Call</td>\n",
       "    </tr>\n",
       "    <tr>\n",
       "      <th>2</th>\n",
       "      <td>101003151198</td>\n",
       "      <td>2020-01-04 13:52:00</td>\n",
       "      <td>NaN</td>\n",
       "      <td>NaN</td>\n",
       "      <td>ONTIME</td>\n",
       "      <td>Open</td>\n",
       "      <td></td>\n",
       "      <td>Space Savers</td>\n",
       "      <td>Public Works Department</td>\n",
       "      <td>Sanitation</td>\n",
       "      <td>...</td>\n",
       "      <td>C11</td>\n",
       "      <td>Dorchester</td>\n",
       "      <td>8</td>\n",
       "      <td>Ward 16</td>\n",
       "      <td>1603</td>\n",
       "      <td>14 Banton St</td>\n",
       "      <td>2124.0</td>\n",
       "      <td>42.2885</td>\n",
       "      <td>-71.0643</td>\n",
       "      <td>Citizens Connect App</td>\n",
       "    </tr>\n",
       "    <tr>\n",
       "      <th>3</th>\n",
       "      <td>101003174391</td>\n",
       "      <td>2020-01-21 10:05:00</td>\n",
       "      <td>2021-01-20 10:06:15</td>\n",
       "      <td>NaN</td>\n",
       "      <td>ONTIME</td>\n",
       "      <td>Open</td>\n",
       "      <td></td>\n",
       "      <td>New Tree Requests</td>\n",
       "      <td>Parks &amp; Recreation Department</td>\n",
       "      <td>Trees</td>\n",
       "      <td>...</td>\n",
       "      <td>B2</td>\n",
       "      <td>Mission Hill</td>\n",
       "      <td>14</td>\n",
       "      <td>Ward 10</td>\n",
       "      <td>1003</td>\n",
       "      <td>746 Huntington Ave</td>\n",
       "      <td>2120.0</td>\n",
       "      <td>42.3336</td>\n",
       "      <td>-71.1055</td>\n",
       "      <td>Employee Generated</td>\n",
       "    </tr>\n",
       "    <tr>\n",
       "      <th>4</th>\n",
       "      <td>101003174624</td>\n",
       "      <td>2020-01-21 11:50:17</td>\n",
       "      <td>NaN</td>\n",
       "      <td>NaN</td>\n",
       "      <td>ONTIME</td>\n",
       "      <td>Open</td>\n",
       "      <td></td>\n",
       "      <td>Other: Compliment</td>\n",
       "      <td>Mayor's 24 Hour Hotline</td>\n",
       "      <td>Employee &amp; General Comments</td>\n",
       "      <td>...</td>\n",
       "      <td></td>\n",
       "      <td></td>\n",
       "      <td></td>\n",
       "      <td></td>\n",
       "      <td></td>\n",
       "      <td>NaN</td>\n",
       "      <td>NaN</td>\n",
       "      <td>42.3594</td>\n",
       "      <td>-71.0587</td>\n",
       "      <td>Constituent Call</td>\n",
       "    </tr>\n",
       "    <tr>\n",
       "      <th>...</th>\n",
       "      <td>...</td>\n",
       "      <td>...</td>\n",
       "      <td>...</td>\n",
       "      <td>...</td>\n",
       "      <td>...</td>\n",
       "      <td>...</td>\n",
       "      <td>...</td>\n",
       "      <td>...</td>\n",
       "      <td>...</td>\n",
       "      <td>...</td>\n",
       "      <td>...</td>\n",
       "      <td>...</td>\n",
       "      <td>...</td>\n",
       "      <td>...</td>\n",
       "      <td>...</td>\n",
       "      <td>...</td>\n",
       "      <td>...</td>\n",
       "      <td>...</td>\n",
       "      <td>...</td>\n",
       "      <td>...</td>\n",
       "      <td>...</td>\n",
       "    </tr>\n",
       "    <tr>\n",
       "      <th>231881</th>\n",
       "      <td>101003533571</td>\n",
       "      <td>2020-12-01 20:45:00</td>\n",
       "      <td>2020-12-02 20:45:46</td>\n",
       "      <td>NaN</td>\n",
       "      <td>OVERDUE</td>\n",
       "      <td>Open</td>\n",
       "      <td></td>\n",
       "      <td>Unsafe/Dangerous Conditions</td>\n",
       "      <td>Inspectional Services</td>\n",
       "      <td>Building</td>\n",
       "      <td>...</td>\n",
       "      <td>A1</td>\n",
       "      <td>Downtown / Financial District</td>\n",
       "      <td>3</td>\n",
       "      <td>Ward 3</td>\n",
       "      <td>0303</td>\n",
       "      <td>4 N Bennet Ct</td>\n",
       "      <td>2113.0</td>\n",
       "      <td>42.3655</td>\n",
       "      <td>-71.0549</td>\n",
       "      <td>Constituent Call</td>\n",
       "    </tr>\n",
       "    <tr>\n",
       "      <th>231882</th>\n",
       "      <td>101003533608</td>\n",
       "      <td>2020-12-01 22:10:00</td>\n",
       "      <td>2020-12-09 08:30:00</td>\n",
       "      <td>NaN</td>\n",
       "      <td>ONTIME</td>\n",
       "      <td>Open</td>\n",
       "      <td></td>\n",
       "      <td>Protection of Adjoining Property</td>\n",
       "      <td>Inspectional Services</td>\n",
       "      <td>Building</td>\n",
       "      <td>...</td>\n",
       "      <td>C11</td>\n",
       "      <td>Dorchester</td>\n",
       "      <td>8</td>\n",
       "      <td>Ward 15</td>\n",
       "      <td>1504</td>\n",
       "      <td>17 Wilkinson Park</td>\n",
       "      <td>2122.0</td>\n",
       "      <td>42.3068</td>\n",
       "      <td>-71.0614</td>\n",
       "      <td>Constituent Call</td>\n",
       "    </tr>\n",
       "    <tr>\n",
       "      <th>231883</th>\n",
       "      <td>101003533614</td>\n",
       "      <td>2020-12-01 22:27:00</td>\n",
       "      <td>2020-12-03 22:27:22</td>\n",
       "      <td>NaN</td>\n",
       "      <td>ONTIME</td>\n",
       "      <td>Open</td>\n",
       "      <td></td>\n",
       "      <td>Work w/out Permit</td>\n",
       "      <td>Inspectional Services</td>\n",
       "      <td>Building</td>\n",
       "      <td>...</td>\n",
       "      <td>C6</td>\n",
       "      <td>South Boston</td>\n",
       "      <td>5</td>\n",
       "      <td>06</td>\n",
       "      <td>0607</td>\n",
       "      <td>799 E Third St</td>\n",
       "      <td>2127.0</td>\n",
       "      <td>42.3365</td>\n",
       "      <td>-71.0278</td>\n",
       "      <td>Constituent Call</td>\n",
       "    </tr>\n",
       "    <tr>\n",
       "      <th>231884</th>\n",
       "      <td>101003533618</td>\n",
       "      <td>2020-12-01 22:32:00</td>\n",
       "      <td>2022-11-21 22:32:20</td>\n",
       "      <td>NaN</td>\n",
       "      <td>ONTIME</td>\n",
       "      <td>Open</td>\n",
       "      <td></td>\n",
       "      <td>Working Beyond Hours</td>\n",
       "      <td>Inspectional Services</td>\n",
       "      <td>Building</td>\n",
       "      <td>...</td>\n",
       "      <td>E13</td>\n",
       "      <td>Jamaica Plain</td>\n",
       "      <td>11</td>\n",
       "      <td>19</td>\n",
       "      <td>1906</td>\n",
       "      <td>632-638 Centre St</td>\n",
       "      <td>2130.0</td>\n",
       "      <td>42.3136</td>\n",
       "      <td>-71.1139</td>\n",
       "      <td>Constituent Call</td>\n",
       "    </tr>\n",
       "    <tr>\n",
       "      <th>231885</th>\n",
       "      <td>101003533635</td>\n",
       "      <td>2020-12-01 23:13:00</td>\n",
       "      <td>2020-12-07 08:30:00</td>\n",
       "      <td>NaN</td>\n",
       "      <td>ONTIME</td>\n",
       "      <td>Open</td>\n",
       "      <td></td>\n",
       "      <td>Contractor Complaints</td>\n",
       "      <td>Public Works Department</td>\n",
       "      <td>Highway Maintenance</td>\n",
       "      <td>...</td>\n",
       "      <td>C6</td>\n",
       "      <td>Dorchester</td>\n",
       "      <td>5</td>\n",
       "      <td>Ward 7</td>\n",
       "      <td>0708</td>\n",
       "      <td>174 Boston St</td>\n",
       "      <td>2125.0</td>\n",
       "      <td>42.3237</td>\n",
       "      <td>-71.0599</td>\n",
       "      <td>Constituent Call</td>\n",
       "    </tr>\n",
       "  </tbody>\n",
       "</table>\n",
       "<p>231886 rows × 29 columns</p>\n",
       "</div>"
      ],
      "text/plain": [
       "        case_enquiry_id              open_dt            target_dt closed_dt  \\\n",
       "0          101003189741  2020-02-07 15:17:00  2020-06-06 15:17:27       NaN   \n",
       "1          101003156344  2020-01-10 13:49:00  2021-12-30 13:49:25       NaN   \n",
       "2          101003151198  2020-01-04 13:52:00                  NaN       NaN   \n",
       "3          101003174391  2020-01-21 10:05:00  2021-01-20 10:06:15       NaN   \n",
       "4          101003174624  2020-01-21 11:50:17                  NaN       NaN   \n",
       "...                 ...                  ...                  ...       ...   \n",
       "231881     101003533571  2020-12-01 20:45:00  2020-12-02 20:45:46       NaN   \n",
       "231882     101003533608  2020-12-01 22:10:00  2020-12-09 08:30:00       NaN   \n",
       "231883     101003533614  2020-12-01 22:27:00  2020-12-03 22:27:22       NaN   \n",
       "231884     101003533618  2020-12-01 22:32:00  2022-11-21 22:32:20       NaN   \n",
       "231885     101003533635  2020-12-01 23:13:00  2020-12-07 08:30:00       NaN   \n",
       "\n",
       "         ontime case_status closure_reason                        case_title  \\\n",
       "0       OVERDUE        Open                                     Overcrowding   \n",
       "1        ONTIME        Open                            Contractors Complaint   \n",
       "2        ONTIME        Open                                     Space Savers   \n",
       "3        ONTIME        Open                                New Tree Requests   \n",
       "4        ONTIME        Open                                Other: Compliment   \n",
       "...         ...         ...            ...                               ...   \n",
       "231881  OVERDUE        Open                      Unsafe/Dangerous Conditions   \n",
       "231882   ONTIME        Open                 Protection of Adjoining Property   \n",
       "231883   ONTIME        Open                                Work w/out Permit   \n",
       "231884   ONTIME        Open                             Working Beyond Hours   \n",
       "231885   ONTIME        Open                            Contractor Complaints   \n",
       "\n",
       "                              subject                       reason  ...  \\\n",
       "0               Inspectional Services                      Housing  ...   \n",
       "1               Inspectional Services                     Building  ...   \n",
       "2             Public Works Department                   Sanitation  ...   \n",
       "3       Parks & Recreation Department                        Trees  ...   \n",
       "4             Mayor's 24 Hour Hotline  Employee & General Comments  ...   \n",
       "...                               ...                          ...  ...   \n",
       "231881          Inspectional Services                     Building  ...   \n",
       "231882          Inspectional Services                     Building  ...   \n",
       "231883          Inspectional Services                     Building  ...   \n",
       "231884          Inspectional Services                     Building  ...   \n",
       "231885        Public Works Department          Highway Maintenance  ...   \n",
       "\n",
       "       police_district                   neighborhood  \\\n",
       "0                   D4                       Back Bay   \n",
       "1                   C6                   South Boston   \n",
       "2                  C11                     Dorchester   \n",
       "3                   B2                   Mission Hill   \n",
       "4                                                       \n",
       "...                ...                            ...   \n",
       "231881              A1  Downtown / Financial District   \n",
       "231882             C11                     Dorchester   \n",
       "231883              C6                   South Boston   \n",
       "231884             E13                  Jamaica Plain   \n",
       "231885              C6                     Dorchester   \n",
       "\n",
       "       neighborhood_services_district     ward precinct location_street_name  \\\n",
       "0                                  14   Ward 5     0507   116 Marlborough St   \n",
       "1                                   5       06     0609       874 E Sixth St   \n",
       "2                                   8  Ward 16     1603         14 Banton St   \n",
       "3                                  14  Ward 10     1003   746 Huntington Ave   \n",
       "4                                                                        NaN   \n",
       "...                               ...      ...      ...                  ...   \n",
       "231881                              3   Ward 3     0303        4 N Bennet Ct   \n",
       "231882                              8  Ward 15     1504    17 Wilkinson Park   \n",
       "231883                              5       06     0607       799 E Third St   \n",
       "231884                             11       19     1906    632-638 Centre St   \n",
       "231885                              5   Ward 7     0708        174 Boston St   \n",
       "\n",
       "       location_zipcode latitude longitude                source  \n",
       "0                2116.0  42.3531  -71.0771      Constituent Call  \n",
       "1                2127.0  42.3335  -71.0260      Constituent Call  \n",
       "2                2124.0  42.2885  -71.0643  Citizens Connect App  \n",
       "3                2120.0  42.3336  -71.1055    Employee Generated  \n",
       "4                   NaN  42.3594  -71.0587      Constituent Call  \n",
       "...                 ...      ...       ...                   ...  \n",
       "231881           2113.0  42.3655  -71.0549      Constituent Call  \n",
       "231882           2122.0  42.3068  -71.0614      Constituent Call  \n",
       "231883           2127.0  42.3365  -71.0278      Constituent Call  \n",
       "231884           2130.0  42.3136  -71.1139      Constituent Call  \n",
       "231885           2125.0  42.3237  -71.0599      Constituent Call  \n",
       "\n",
       "[231886 rows x 29 columns]"
      ]
     },
     "execution_count": 3,
     "metadata": {},
     "output_type": "execute_result"
    }
   ],
   "source": [
    "df = pd.read_csv('https://data.boston.gov/dataset/8048697b-ad64-4bfc-b090-ee00169f2323/resource/6ff6a6fd-3141-4440-a880-6f60a37fe789/download/tmpfoxzgw4v.csv', sep=',') #reading the csv file from the url\n",
    "df"
   ]
  },
  {
   "cell_type": "markdown",
   "metadata": {},
   "source": [
    "# Data Cleansing"
   ]
  },
  {
   "cell_type": "code",
   "execution_count": 4,
   "metadata": {},
   "outputs": [],
   "source": [
    "df['open_dt'] = pd.to_datetime(df['open_dt'])\n",
    "df['target_dt'] = pd.to_datetime(df['target_dt'])\n",
    "df['closed_dt'] = pd.to_datetime(df['closed_dt'])\n",
    "\n",
    "df['Open_Year'] = df['open_dt'].dt.year\n",
    "df['Open_Month'] = df['open_dt'].dt.month\n",
    "df['Target_Year'] = df['target_dt'].dt.year\n",
    "df['Target_Month'] = df['target_dt'].dt.month\n",
    "df['Close_Year'] = df['closed_dt'].dt.year\n",
    "df['Close_Month'] = df['closed_dt'].dt.month\n",
    "\n"
   ]
  },
  {
   "cell_type": "code",
   "execution_count": 5,
   "metadata": {},
   "outputs": [],
   "source": [
    "df['neighborhood'] = df['neighborhood'].fillna(\"No Data\")\n",
    "df['case_title'] = df['case_title'].fillna(\"No Data\")\n",
    "df['location_zipcode'] = df['location_zipcode'].fillna(\"00000\").astype(int)\n",
    "#df['target_dt'] = df['target_dt'].fillna(\"9999-01-01 00:00:00\")\n",
    "#df['closed_dt'] = df['closed_dt'].fillna(\"9999-01-01 00:00:00\")\n",
    "df['Target_Month']=df['Target_Month'].fillna(\"0\").astype(int)\n",
    "df['Close_Month']=df['Close_Month'].fillna(\"0\").astype(int)\n",
    "df['Target_Year']=df['Target_Year'].fillna(\"0000\").astype(int)\n",
    "df['Close_Year']=df['Close_Year'].fillna(\"0000\").astype(int)"
   ]
  },
  {
   "cell_type": "code",
   "execution_count": 6,
   "metadata": {},
   "outputs": [],
   "source": [
    "df.drop('submittedphoto',\n",
    "  axis='columns', inplace=True)\n",
    "df.drop('closedphoto',\n",
    "  axis='columns', inplace=True)\n",
    "df.drop('fire_district',\n",
    "  axis='columns', inplace=True)\n",
    "df.drop('pwd_district',\n",
    "  axis='columns', inplace=True)\n",
    "df.drop('city_council_district',\n",
    "  axis='columns', inplace=True)\n",
    "df.drop('police_district',\n",
    "  axis='columns', inplace=True)\n",
    "df.drop('neighborhood_services_district',\n",
    "  axis='columns', inplace=True)\n",
    "df.drop('location_street_name',\n",
    "  axis='columns', inplace=True)\n",
    "df.drop('precinct',\n",
    "  axis='columns', inplace=True)\n",
    "df.drop('latitude',\n",
    "  axis='columns', inplace=True)\n",
    "df.drop('longitude',\n",
    "  axis='columns', inplace=True)\n",
    "df.drop('queue',\n",
    "  axis='columns', inplace=True)\n",
    "df.drop('ward',\n",
    "  axis='columns', inplace=True)"
   ]
  },
  {
   "cell_type": "code",
   "execution_count": 7,
   "metadata": {},
   "outputs": [
    {
     "data": {
      "text/html": [
       "<div>\n",
       "<style scoped>\n",
       "    .dataframe tbody tr th:only-of-type {\n",
       "        vertical-align: middle;\n",
       "    }\n",
       "\n",
       "    .dataframe tbody tr th {\n",
       "        vertical-align: top;\n",
       "    }\n",
       "\n",
       "    .dataframe thead th {\n",
       "        text-align: right;\n",
       "    }\n",
       "</style>\n",
       "<table border=\"1\" class=\"dataframe\">\n",
       "  <thead>\n",
       "    <tr style=\"text-align: right;\">\n",
       "      <th></th>\n",
       "      <th>Type</th>\n",
       "    </tr>\n",
       "  </thead>\n",
       "  <tbody>\n",
       "    <tr>\n",
       "      <th>case_enquiry_id</th>\n",
       "      <td>int64</td>\n",
       "    </tr>\n",
       "    <tr>\n",
       "      <th>open_dt</th>\n",
       "      <td>datetime64[ns]</td>\n",
       "    </tr>\n",
       "    <tr>\n",
       "      <th>target_dt</th>\n",
       "      <td>datetime64[ns]</td>\n",
       "    </tr>\n",
       "    <tr>\n",
       "      <th>closed_dt</th>\n",
       "      <td>datetime64[ns]</td>\n",
       "    </tr>\n",
       "    <tr>\n",
       "      <th>ontime</th>\n",
       "      <td>object</td>\n",
       "    </tr>\n",
       "    <tr>\n",
       "      <th>case_status</th>\n",
       "      <td>object</td>\n",
       "    </tr>\n",
       "    <tr>\n",
       "      <th>closure_reason</th>\n",
       "      <td>object</td>\n",
       "    </tr>\n",
       "    <tr>\n",
       "      <th>case_title</th>\n",
       "      <td>object</td>\n",
       "    </tr>\n",
       "    <tr>\n",
       "      <th>subject</th>\n",
       "      <td>object</td>\n",
       "    </tr>\n",
       "    <tr>\n",
       "      <th>reason</th>\n",
       "      <td>object</td>\n",
       "    </tr>\n",
       "    <tr>\n",
       "      <th>type</th>\n",
       "      <td>object</td>\n",
       "    </tr>\n",
       "    <tr>\n",
       "      <th>department</th>\n",
       "      <td>object</td>\n",
       "    </tr>\n",
       "    <tr>\n",
       "      <th>location</th>\n",
       "      <td>object</td>\n",
       "    </tr>\n",
       "    <tr>\n",
       "      <th>neighborhood</th>\n",
       "      <td>object</td>\n",
       "    </tr>\n",
       "    <tr>\n",
       "      <th>location_zipcode</th>\n",
       "      <td>int64</td>\n",
       "    </tr>\n",
       "    <tr>\n",
       "      <th>source</th>\n",
       "      <td>object</td>\n",
       "    </tr>\n",
       "    <tr>\n",
       "      <th>Open_Year</th>\n",
       "      <td>int64</td>\n",
       "    </tr>\n",
       "    <tr>\n",
       "      <th>Open_Month</th>\n",
       "      <td>int64</td>\n",
       "    </tr>\n",
       "    <tr>\n",
       "      <th>Target_Year</th>\n",
       "      <td>int64</td>\n",
       "    </tr>\n",
       "    <tr>\n",
       "      <th>Target_Month</th>\n",
       "      <td>int64</td>\n",
       "    </tr>\n",
       "    <tr>\n",
       "      <th>Close_Year</th>\n",
       "      <td>int64</td>\n",
       "    </tr>\n",
       "    <tr>\n",
       "      <th>Close_Month</th>\n",
       "      <td>int64</td>\n",
       "    </tr>\n",
       "  </tbody>\n",
       "</table>\n",
       "</div>"
      ],
      "text/plain": [
       "                            Type\n",
       "case_enquiry_id            int64\n",
       "open_dt           datetime64[ns]\n",
       "target_dt         datetime64[ns]\n",
       "closed_dt         datetime64[ns]\n",
       "ontime                    object\n",
       "case_status               object\n",
       "closure_reason            object\n",
       "case_title                object\n",
       "subject                   object\n",
       "reason                    object\n",
       "type                      object\n",
       "department                object\n",
       "location                  object\n",
       "neighborhood              object\n",
       "location_zipcode           int64\n",
       "source                    object\n",
       "Open_Year                  int64\n",
       "Open_Month                 int64\n",
       "Target_Year                int64\n",
       "Target_Month               int64\n",
       "Close_Year                 int64\n",
       "Close_Month                int64"
      ]
     },
     "execution_count": 7,
     "metadata": {},
     "output_type": "execute_result"
    }
   ],
   "source": [
    "df.dtypes.to_frame(name='Type')"
   ]
  },
  {
   "cell_type": "code",
   "execution_count": 8,
   "metadata": {},
   "outputs": [
    {
     "data": {
      "text/html": [
       "<div>\n",
       "<style scoped>\n",
       "    .dataframe tbody tr th:only-of-type {\n",
       "        vertical-align: middle;\n",
       "    }\n",
       "\n",
       "    .dataframe tbody tr th {\n",
       "        vertical-align: top;\n",
       "    }\n",
       "\n",
       "    .dataframe thead th {\n",
       "        text-align: right;\n",
       "    }\n",
       "</style>\n",
       "<table border=\"1\" class=\"dataframe\">\n",
       "  <thead>\n",
       "    <tr style=\"text-align: right;\">\n",
       "      <th></th>\n",
       "      <th>missing counts</th>\n",
       "    </tr>\n",
       "  </thead>\n",
       "  <tbody>\n",
       "    <tr>\n",
       "      <th>case_enquiry_id</th>\n",
       "      <td>0</td>\n",
       "    </tr>\n",
       "    <tr>\n",
       "      <th>open_dt</th>\n",
       "      <td>0</td>\n",
       "    </tr>\n",
       "    <tr>\n",
       "      <th>target_dt</th>\n",
       "      <td>40754</td>\n",
       "    </tr>\n",
       "    <tr>\n",
       "      <th>closed_dt</th>\n",
       "      <td>33162</td>\n",
       "    </tr>\n",
       "    <tr>\n",
       "      <th>ontime</th>\n",
       "      <td>0</td>\n",
       "    </tr>\n",
       "    <tr>\n",
       "      <th>case_status</th>\n",
       "      <td>0</td>\n",
       "    </tr>\n",
       "    <tr>\n",
       "      <th>closure_reason</th>\n",
       "      <td>0</td>\n",
       "    </tr>\n",
       "    <tr>\n",
       "      <th>case_title</th>\n",
       "      <td>0</td>\n",
       "    </tr>\n",
       "    <tr>\n",
       "      <th>subject</th>\n",
       "      <td>0</td>\n",
       "    </tr>\n",
       "    <tr>\n",
       "      <th>reason</th>\n",
       "      <td>0</td>\n",
       "    </tr>\n",
       "    <tr>\n",
       "      <th>type</th>\n",
       "      <td>0</td>\n",
       "    </tr>\n",
       "    <tr>\n",
       "      <th>department</th>\n",
       "      <td>0</td>\n",
       "    </tr>\n",
       "    <tr>\n",
       "      <th>location</th>\n",
       "      <td>0</td>\n",
       "    </tr>\n",
       "    <tr>\n",
       "      <th>neighborhood</th>\n",
       "      <td>0</td>\n",
       "    </tr>\n",
       "    <tr>\n",
       "      <th>location_zipcode</th>\n",
       "      <td>0</td>\n",
       "    </tr>\n",
       "    <tr>\n",
       "      <th>source</th>\n",
       "      <td>0</td>\n",
       "    </tr>\n",
       "    <tr>\n",
       "      <th>Open_Year</th>\n",
       "      <td>0</td>\n",
       "    </tr>\n",
       "    <tr>\n",
       "      <th>Open_Month</th>\n",
       "      <td>0</td>\n",
       "    </tr>\n",
       "    <tr>\n",
       "      <th>Target_Year</th>\n",
       "      <td>0</td>\n",
       "    </tr>\n",
       "    <tr>\n",
       "      <th>Target_Month</th>\n",
       "      <td>0</td>\n",
       "    </tr>\n",
       "    <tr>\n",
       "      <th>Close_Year</th>\n",
       "      <td>0</td>\n",
       "    </tr>\n",
       "    <tr>\n",
       "      <th>Close_Month</th>\n",
       "      <td>0</td>\n",
       "    </tr>\n",
       "  </tbody>\n",
       "</table>\n",
       "</div>"
      ],
      "text/plain": [
       "                  missing counts\n",
       "case_enquiry_id                0\n",
       "open_dt                        0\n",
       "target_dt                  40754\n",
       "closed_dt                  33162\n",
       "ontime                         0\n",
       "case_status                    0\n",
       "closure_reason                 0\n",
       "case_title                     0\n",
       "subject                        0\n",
       "reason                         0\n",
       "type                           0\n",
       "department                     0\n",
       "location                       0\n",
       "neighborhood                   0\n",
       "location_zipcode               0\n",
       "source                         0\n",
       "Open_Year                      0\n",
       "Open_Month                     0\n",
       "Target_Year                    0\n",
       "Target_Month                   0\n",
       "Close_Year                     0\n",
       "Close_Month                    0"
      ]
     },
     "execution_count": 8,
     "metadata": {},
     "output_type": "execute_result"
    }
   ],
   "source": [
    "df.isnull().sum().to_frame(name='missing counts')"
   ]
  },
  {
   "cell_type": "markdown",
   "metadata": {},
   "source": [
    "# Visualiztions"
   ]
  },
  {
   "cell_type": "code",
   "execution_count": 9,
   "metadata": {},
   "outputs": [
    {
     "data": {
      "text/plain": [
       "<matplotlib.axes._subplots.AxesSubplot at 0x131e21d30>"
      ]
     },
     "execution_count": 9,
     "metadata": {},
     "output_type": "execute_result"
    },
    {
     "data": {
      "image/png": "[encoded data removed]",
      "text/plain": [
       "<Figure size 432x288 with 1 Axes>"
      ]
     },
     "metadata": {},
     "output_type": "display_data"
    }
   ],
   "source": [
    "#Top 10 reaons for requests \n",
    "df['reason'].value_counts()[:10]\n",
    "df['reason'].value_counts()[:10].sort_values().plot(title='Reason for requests', kind='pie')"
   ]
  },
  {
   "cell_type": "code",
   "execution_count": 10,
   "metadata": {},
   "outputs": [
    {
     "data": {
      "text/plain": [
       "<matplotlib.axes._subplots.AxesSubplot at 0x1331f4070>"
      ]
     },
     "execution_count": 10,
     "metadata": {},
     "output_type": "execute_result"
    },
    {
     "data": {
      "image/png": "[encoded data removed]",
      "text/plain": [
       "<Figure size 432x288 with 1 Axes>"
      ]
     },
     "metadata": {
      "needs_background": "light"
     },
     "output_type": "display_data"
    }
   ],
   "source": [
    "#which month received more requests\n",
    "df['Open_Month'].value_counts()[:]\n",
    "df['Open_Month'].value_counts()[:10].sort_values().plot(title='Number of requests per month', kind='bar')"
   ]
  },
  {
   "cell_type": "code",
   "execution_count": 11,
   "metadata": {},
   "outputs": [
    {
     "data": {
      "text/plain": [
       "<matplotlib.axes._subplots.AxesSubplot at 0x136ab1940>"
      ]
     },
     "execution_count": 11,
     "metadata": {},
     "output_type": "execute_result"
    },
    {
     "data": {
      "image/png": "[encoded data removed]",
      "text/plain": [
       "<Figure size 432x288 with 1 Axes>"
      ]
     },
     "metadata": {
      "needs_background": "light"
     },
     "output_type": "display_data"
    }
   ],
   "source": [
    "# How many requests are resolved\n",
    "df['case_status'].value_counts()\n",
    "sns.countplot(data = df, x = 'case_status')"
   ]
  },
  {
   "cell_type": "code",
   "execution_count": 12,
   "metadata": {},
   "outputs": [
    {
     "data": {
      "text/plain": [
       "ONTIME     193490\n",
       "OVERDUE     38396\n",
       "Name: ontime, dtype: int64"
      ]
     },
     "execution_count": 12,
     "metadata": {},
     "output_type": "execute_result"
    }
   ],
   "source": [
    "# how many reuests are running ontime \n",
    "df['ontime'].value_counts()"
   ]
  },
  {
   "cell_type": "code",
   "execution_count": 13,
   "metadata": {},
   "outputs": [
    {
     "name": "stdout",
     "output_type": "stream",
     "text": [
      "\n",
      "The reason of requests of each type\n",
      "reason                             type                          \n",
      "Abandoned Bicycle                  Abandoned Bicycle                 956\n",
      "Administrative & General Requests  Public Works General Request      422\n",
      "                                   Parks General Request             367\n",
      "                                   Transportation General Request    283\n",
      "                                   BWSC General Request              198\n",
      "                                                                    ... \n",
      "Weights and Measures               No Price on Gas/Wrong Price         5\n",
      "                                   Product Short Measure               3\n",
      "                                   Short Measure - Gas                 3\n",
      "                                   Scale Not Visible                   2\n",
      "                                   Water in Gas - High Priority        1\n",
      "Name: type, Length: 173, dtype: int64\n",
      "\n"
     ]
    }
   ],
   "source": [
    "# Determining different type of request for each reason\n",
    "request_reason_type = df.groupby('reason')['type'].value_counts()\n",
    "print(f'\\nThe reason of requests of each type\\n{request_reason_type}\\n')"
   ]
  },
  {
   "cell_type": "code",
   "execution_count": 14,
   "metadata": {},
   "outputs": [
    {
     "data": {
      "text/plain": [
       "Dorchester                                      35645\n",
       "Roxbury                                         21835\n",
       "South Boston / South Boston Waterfront          18718\n",
       "Allston / Brighton                              16669\n",
       "South End                                       15661\n",
       "East Boston                                     15400\n",
       "Jamaica Plain                                   12532\n",
       "Hyde Park                                       12038\n",
       "Downtown / Financial District                   11893\n",
       "Greater Mattapan                                10320\n",
       "Back Bay                                        10319\n",
       "Charlestown                                      8305\n",
       "West Roxbury                                     8293\n",
       "Roslindale                                       8121\n",
       "Boston                                           6281\n",
       "Beacon Hill                                      5077\n",
       "Fenway / Kenmore / Audubon Circle / Longwood     4091\n",
       "Mission Hill                                     3920\n",
       "                                                 2841\n",
       "South Boston                                     1830\n",
       "Brighton                                          925\n",
       "Allston                                           515\n",
       "Mattapan                                          450\n",
       "No Data                                           187\n",
       "Chestnut Hill                                      20\n",
       "Name: neighborhood, dtype: int64"
      ]
     },
     "execution_count": 14,
     "metadata": {},
     "output_type": "execute_result"
    }
   ],
   "source": [
    "df['neighborhood'].value_counts()"
   ]
  },
  {
   "cell_type": "code",
   "execution_count": 15,
   "metadata": {
    "scrolled": true
   },
   "outputs": [
    {
     "name": "stderr",
     "output_type": "stream",
     "text": [
      "/opt/anaconda3/lib/python3.8/site-packages/pandas/core/indexing.py:966: SettingWithCopyWarning: \n",
      "A value is trying to be set on a copy of a slice from a DataFrame.\n",
      "Try using .loc[row_indexer,col_indexer] = value instead\n",
      "\n",
      "See the caveats in the documentation: https://pandas.pydata.org/pandas-docs/stable/user_guide/indexing.html#returning-a-view-versus-a-copy\n",
      "  self.obj[item] = s\n"
     ]
    },
    {
     "data": {
      "image/png": "[encoded data removed]",
      "text/plain": [
       "<Figure size 1800x720 with 1 Axes>"
      ]
     },
     "metadata": {
      "needs_background": "light"
     },
     "output_type": "display_data"
    }
   ],
   "source": [
    "# Neighbourhood with max requests\n",
    "count=df[['neighborhood', 'case_enquiry_id', 'open_dt']]\n",
    "count\n",
    "\n",
    "#As complaint ID has unique complaint, changing them to 1 to get cumulative sum.\n",
    "count.loc[count['case_enquiry_id'] > 0, 'case_enquiry_id'] = 1\n",
    "count\n",
    "\n",
    "#Grouped the state and Date recieved columnn and taking cumulative sum\n",
    "complaints_state=count.groupby(['neighborhood'])['case_enquiry_id'].sum().reset_index()\n",
    "\n",
    "plt.figure(figsize=(25,10))\n",
    "\n",
    "x = sns.barplot(x=\"neighborhood\", y=\"case_enquiry_id\", data=complaints_state)\n",
    "plt.xticks(rotation=90)\n",
    "\n",
    "plt.title('Requests per each Location', fontsize=28)\n",
    "plt.xlabel('Location', fontsize=25)\n",
    "plt.ylabel('No.of Requets', fontsize=24)\n",
    "plt.tick_params(axis='both',labelsize=16)"
   ]
  },
  {
   "cell_type": "code",
   "execution_count": 16,
   "metadata": {},
   "outputs": [
    {
     "data": {
      "image/png": "[encoded data removed]",
      "text/plain": [
       "<Figure size 1440x576 with 1 Axes>"
      ]
     },
     "metadata": {
      "needs_background": "light"
     },
     "output_type": "display_data"
    }
   ],
   "source": [
    "# Max source of requests\n",
    "df['source'].value_counts()\n",
    "plt.figure(figsize=(20,8)) # this creates a figure 8 inch wide, 4 inch high\n",
    "#sns.countplot(x=\"Open_Month\", hue= 'source' , data = df)\n",
    "sns.countplot(y=\"reason\", hue=\"Open_Month\", data=df, palette=\"Greens_d\",\n",
    "              order=df['reason'].value_counts()[:10].index)\n",
    "plt.show()"
   ]
  },
  {
   "cell_type": "code",
   "execution_count": 17,
   "metadata": {},
   "outputs": [
    {
     "name": "stdout",
     "output_type": "stream",
     "text": [
      "\n",
      "The maximum source used for requests from each neughbourhood \n",
      "source                neighborhood                          \n",
      "Citizens Connect App  Dorchester                                13187\n",
      "                      South Boston / South Boston Waterfront    11184\n",
      "                      South End                                 10554\n",
      "                      Roxbury                                    9191\n",
      "                      East Boston                                7375\n",
      "                                                                ...  \n",
      "Self Service          South Boston                                 34\n",
      "                      Allston                                      12\n",
      "                      Mattapan                                     11\n",
      "                      No Data                                       3\n",
      "Twitter               Dorchester                                    1\n",
      "Name: neighborhood, Length: 124, dtype: int64\n",
      "\n"
     ]
    }
   ],
   "source": [
    "max_source_neighbourhood = df.groupby('source')['neighborhood'].value_counts()\n",
    "print(f'\\nThe maximum source used for requests from each neughbourhood \\n{max_source_neighbourhood}\\n')"
   ]
  },
  {
   "cell_type": "markdown",
   "metadata": {},
   "source": [
    "# Predective Analysis"
   ]
  },
  {
   "cell_type": "code",
   "execution_count": 18,
   "metadata": {},
   "outputs": [],
   "source": [
    "from sklearn.model_selection import train_test_split\n",
    "from sklearn.linear_model import LogisticRegression\n",
    "from sklearn import metrics, preprocessing\n",
    "import seaborn as sn\n",
    "import matplotlib.pyplot as plt"
   ]
  },
  {
   "cell_type": "code",
   "execution_count": 19,
   "metadata": {},
   "outputs": [],
   "source": [
    "final_df = pd.DataFrame()"
   ]
  },
  {
   "cell_type": "code",
   "execution_count": 20,
   "metadata": {},
   "outputs": [],
   "source": [
    "def make_lower(s):\n",
    "    if isinstance(s, str):\n",
    "        return s.lower()\n",
    "    return str(s).lower()"
   ]
  },
  {
   "cell_type": "code",
   "execution_count": 21,
   "metadata": {},
   "outputs": [],
   "source": [
    "case_titlelabel_encoder = preprocessing.LabelEncoder()\n",
    "reasonlabel_encoder = preprocessing.LabelEncoder()\n",
    "subjectlabel_encoder = preprocessing.LabelEncoder()"
   ]
  },
  {
   "cell_type": "code",
   "execution_count": 22,
   "metadata": {},
   "outputs": [],
   "source": [
    "final_df[\"case_title\"] = case_titlelabel_encoder.fit_transform(df.case_title.apply(make_lower))"
   ]
  },
  {
   "cell_type": "code",
   "execution_count": 23,
   "metadata": {},
   "outputs": [],
   "source": [
    "final_df[\"reason\"] = reasonlabel_encoder.fit_transform(df.reason.apply(make_lower))"
   ]
  },
  {
   "cell_type": "code",
   "execution_count": 24,
   "metadata": {},
   "outputs": [],
   "source": [
    "final_df[\"subject\"] = subjectlabel_encoder.fit_transform(df.subject)"
   ]
  },
  {
   "cell_type": "code",
   "execution_count": 25,
   "metadata": {},
   "outputs": [],
   "source": [
    "X = final_df[final_df.columns[:-1]]\n",
    "y = final_df[final_df.columns[-1]]"
   ]
  },
  {
   "cell_type": "code",
   "execution_count": 26,
   "metadata": {},
   "outputs": [],
   "source": [
    "X_train,X_test,y_train,y_test = train_test_split(X,y,test_size=0.25,random_state=0)"
   ]
  },
  {
   "cell_type": "markdown",
   "metadata": {},
   "source": [
    "# Logistic regression"
   ]
  },
  {
   "cell_type": "code",
   "execution_count": 27,
   "metadata": {},
   "outputs": [
    {
     "name": "stderr",
     "output_type": "stream",
     "text": [
      "/opt/anaconda3/lib/python3.8/site-packages/sklearn/linear_model/_logistic.py:762: ConvergenceWarning: lbfgs failed to converge (status=1):\n",
      "STOP: TOTAL NO. of ITERATIONS REACHED LIMIT.\n",
      "\n",
      "Increase the number of iterations (max_iter) or scale the data as shown in:\n",
      "    https://scikit-learn.org/stable/modules/preprocessing.html\n",
      "Please also refer to the documentation for alternative solver options:\n",
      "    https://scikit-learn.org/stable/modules/linear_model.html#logistic-regression\n",
      "  n_iter_i = _check_optimize_result(\n"
     ]
    }
   ],
   "source": [
    "logistic_regression= LogisticRegression(max_iter=500)\n",
    "logistic_regression.fit(X_train,y_train)\n",
    "y_pred=logistic_regression.predict(X_test)"
   ]
  },
  {
   "cell_type": "code",
   "execution_count": 28,
   "metadata": {},
   "outputs": [
    {
     "data": {
      "text/plain": [
       "9     119853\n",
       "10     50287\n",
       "4      19906\n",
       "5      17203\n",
       "7      16675\n",
       "8       3197\n",
       "0       3055\n",
       "2       1097\n",
       "1        562\n",
       "6         27\n",
       "3         24\n",
       "Name: subject, dtype: int64"
      ]
     },
     "execution_count": 28,
     "metadata": {},
     "output_type": "execute_result"
    }
   ],
   "source": [
    "final_df.subject.value_counts()"
   ]
  },
  {
   "cell_type": "code",
   "execution_count": 29,
   "metadata": {},
   "outputs": [
    {
     "name": "stdout",
     "output_type": "stream",
     "text": [
      "Accuracy:  0.6556268543434761\n"
     ]
    },
    {
     "data": {
      "image/png": "[encoded data removed]",
      "text/plain": [
       "<Figure size 432x288 with 2 Axes>"
      ]
     },
     "metadata": {
      "needs_background": "light"
     },
     "output_type": "display_data"
    }
   ],
   "source": [
    "confusion_matrix = pd.crosstab(y_test, y_pred, rownames=['Actual'], colnames=['Predicted'])\n",
    "sn.heatmap(confusion_matrix, annot=True)\n",
    "\n",
    "print('Accuracy: ',metrics.accuracy_score(y_test, y_pred))\n",
    "plt.show()"
   ]
  },
  {
   "cell_type": "markdown",
   "metadata": {},
   "source": [
    "# KNN"
   ]
  },
  {
   "cell_type": "code",
   "execution_count": 30,
   "metadata": {},
   "outputs": [],
   "source": [
    "from sklearn import neighbors\n",
    "from sklearn.metrics import mean_squared_error \n",
    "from math import sqrt\n",
    "from sklearn.metrics import classification_report, confusion_matrix\n",
    "from sklearn.neighbors import KNeighborsClassifier\n"
   ]
  },
  {
   "cell_type": "code",
   "execution_count": 31,
   "metadata": {},
   "outputs": [
    {
     "data": {
      "text/plain": [
       "KNeighborsClassifier(n_neighbors=3000)"
      ]
     },
     "execution_count": 31,
     "metadata": {},
     "output_type": "execute_result"
    }
   ],
   "source": [
    "Kmod = KNeighborsClassifier(n_neighbors = 3000)\n",
    "Kmod.fit (X_train, y_train)"
   ]
  },
  {
   "cell_type": "code",
   "execution_count": 32,
   "metadata": {},
   "outputs": [],
   "source": [
    "prediction = Kmod.predict(X_test)"
   ]
  },
  {
   "cell_type": "code",
   "execution_count": 33,
   "metadata": {},
   "outputs": [
    {
     "name": "stdout",
     "output_type": "stream",
     "text": [
      "Accuracy:  0.8983819775063824\n"
     ]
    },
    {
     "data": {
      "image/png": "[encoded data removed]",
      "text/plain": [
       "<Figure size 432x288 with 2 Axes>"
      ]
     },
     "metadata": {
      "needs_background": "light"
     },
     "output_type": "display_data"
    }
   ],
   "source": [
    "confusion_matrix = pd.crosstab(y_test, prediction, rownames=['Actual'], colnames=['Predicted'])\n",
    "sn.heatmap(confusion_matrix, annot=True)\n",
    "print('Accuracy: ',metrics.accuracy_score(y_test, prediction))"
   ]
  },
  {
   "cell_type": "markdown",
   "metadata": {},
   "source": [
    "# Random Forest"
   ]
  },
  {
   "cell_type": "code",
   "execution_count": 34,
   "metadata": {},
   "outputs": [],
   "source": [
    "train_features = X_train\n",
    "test_features = X_test\n",
    "train_labels = y_train\n",
    "test_labels = y_test"
   ]
  },
  {
   "cell_type": "code",
   "execution_count": 35,
   "metadata": {},
   "outputs": [],
   "source": [
    "import sklearn.ensemble\n",
    "from sklearn.ensemble import RandomForestClassifier\n",
    "from sklearn.datasets import make_classification# Instantiate model with 1000 decision trees\n",
    "rf = RandomForestClassifier(n_estimators = 1000, random_state = 42)# Train the model on training data"
   ]
  },
  {
   "cell_type": "code",
   "execution_count": 36,
   "metadata": {},
   "outputs": [
    {
     "data": {
      "text/plain": [
       "RandomForestClassifier(n_estimators=1000, random_state=42)"
      ]
     },
     "execution_count": 36,
     "metadata": {},
     "output_type": "execute_result"
    }
   ],
   "source": [
    "rf.fit(X_train, y_train)"
   ]
  },
  {
   "cell_type": "code",
   "execution_count": 37,
   "metadata": {},
   "outputs": [],
   "source": [
    "predictions = rf.predict(X_test)"
   ]
  },
  {
   "cell_type": "code",
   "execution_count": 38,
   "metadata": {},
   "outputs": [],
   "source": [
    "predictions = predictions.astype(int)"
   ]
  },
  {
   "cell_type": "code",
   "execution_count": 39,
   "metadata": {},
   "outputs": [
    {
     "name": "stdout",
     "output_type": "stream",
     "text": [
      "Accuracy:  0.9998620023459601\n"
     ]
    },
    {
     "data": {
      "image/png": "[encoded data removed]",
      "text/plain": [
       "<Figure size 432x288 with 2 Axes>"
      ]
     },
     "metadata": {
      "needs_background": "light"
     },
     "output_type": "display_data"
    }
   ],
   "source": [
    "confusion_matrix = pd.crosstab(y_test, predictions, rownames=['Actual'], colnames=['Predicted'])\n",
    "sn.heatmap(confusion_matrix, annot=True)\n",
    "\n",
    "print('Accuracy: ',metrics.accuracy_score(y_test, predictions))\n",
    "plt.show()"
   ]
  },
  {
   "cell_type": "code",
   "execution_count": 42,
   "metadata": {},
   "outputs": [
    {
     "name": "stdout",
     "output_type": "stream",
     "text": [
      "The case title is Requests for Street Cleaning\n",
      "The reason mentioned is Street Cleaning\n",
      "The output of our models is\n",
      "Logistic regression output :  ['Public Works Department']\n",
      "Random forest classifier output :  ['Public Works Department']\n",
      "K-Nearest Neighbors output :  ['Public Works Department']\n"
     ]
    }
   ],
   "source": [
    "Case_title=\"Requests for Street Cleaning\"\n",
    "Reason= \"Street Cleaning\"\n",
    "test_case_title = case_titlelabel_encoder.transform([\"Requests for Street Cleaning\".lower()])[0]\n",
    "test_reason = reasonlabel_encoder.transform([\"Street Cleaning\".lower()])[0]\n",
    "testxdf = pd.DataFrame([[test_case_title,test_reason]])\n",
    "\n",
    "print(\"The case title is\",Case_title)\n",
    "print(\"The reason mentioned is\",Reason)\n",
    "print(\"The output of our models is\")\n",
    "\n",
    "print(\"Logistic regression output :  \", end=\"\")\n",
    "print(subjectlabel_encoder.inverse_transform(logistic_regression.predict(testxdf)))\n",
    "\n",
    "print(\"Random forest classifier output :  \", end=\"\")\n",
    "print(subjectlabel_encoder.inverse_transform(rf.predict(testxdf).astype(int)))\n",
    "\n",
    "print(\"K-Nearest Neighbors output :  \", end=\"\")\n",
    "print(subjectlabel_encoder.inverse_transform(Kmod.predict(testxdf).astype(int)))"
   ]
  },
  {
   "cell_type": "code",
   "execution_count": null,
   "metadata": {},
   "outputs": [],
   "source": []
  }
 ],
 "metadata": {
  "kernelspec": {
   "display_name": "Python 3",
   "language": "python",
   "name": "python3"
  },
  "language_info": {
   "codemirror_mode": {
    "name": "ipython",
    "version": 3
   },
   "file_extension": ".py",
   "mimetype": "text/x-python",
   "name": "python",
   "nbconvert_exporter": "python",
   "pygments_lexer": "ipython3",
   "version": "3.8.3"
  }
 },
 "nbformat": 4,
 "nbformat_minor": 4
}
